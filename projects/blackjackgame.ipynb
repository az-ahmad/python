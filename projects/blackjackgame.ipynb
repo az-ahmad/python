{
 "cells": [
  {
   "cell_type": "code",
   "execution_count": 105,
   "metadata": {},
   "outputs": [
    {
     "name": "stdout",
     "output_type": "stream",
     "text": [
      "Hello and welcome to Black Jack 2-Player Ultimate Edition With Bonus DLC\n",
      "Please enter the name of Player 1: er\n",
      "Please enter the name of Player 2: er\n",
      "Welcome er and er to Blackjack. er will go first.\n",
      "\n",
      "Deck Created\n",
      "\n",
      "\n",
      "Shuffling Deck\n",
      "\n",
      "er has the following cards:\n",
      "2 of Clubs\n",
      "Ace of Spades\n",
      "\n",
      "er has the following cards:\n",
      "Ace of Hearts\n",
      "Jack of Hearts\n",
      "er, would you like to hit or stand? Type \"H\" or \"S\"h\n",
      "er 1 hits\n",
      "\n",
      "2 of Clubs\n",
      "Ace of Spades\n",
      "10 of Hearts\n"
     ]
    }
   ],
   "source": [
    "from random import shuffle\n",
    "print('Hello and welcome to Black Jack 2-Player Ultimate Edition With Bonus DLC')\n",
    "player1=''\n",
    "player2=''\n",
    "while player1 == '':\n",
    "    player1 = input('Please enter the name of Player 1: ')\n",
    "\n",
    "while player2 == '':\n",
    "    player2 = input('Please enter the name of Player 2: ')\n",
    "print(f'Welcome {player1} and {player2} to Blackjack. {player1} will go first.')\n",
    "\n",
    "ranks= [2,3,4,5,6,7,8,9,10,'Jack','Queen','King','Ace']\n",
    "suits= ['Spades','Diamonds','Clubs','Hearts']\n",
    "values= {2:2,3:3,4:4,5:5,6:6,7:7,8:8,9:9,'Jack':10,'Queen':10,'King':10,'Ace':11}\n",
    "deck = []\n",
    "player1hand = []\n",
    "player2hand =[]\n",
    "class Deck:\n",
    "    \n",
    "    def __init__(self):\n",
    "        \n",
    "        for suit in suits:\n",
    "            for rank in ranks:\n",
    "                deck.append([rank,suit])\n",
    "        print('\\nDeck Created\\n')\n",
    "        \n",
    "        print('\\nShuffling Deck\\n')\n",
    "        shuffle(deck)\n",
    "        \n",
    "newdeck = Deck()\n",
    "\n",
    "player1hand.append(deck.pop())\n",
    "player1hand.append(deck.pop())\n",
    "player2hand.append(deck.pop())\n",
    "player2hand.append(deck.pop())\n",
    "\n",
    "print(f'{player1} has the following cards:')\n",
    "for cards in player1hand:\n",
    "    print(\"{} of {}\".format(str(cards[0]),str(cards[1])))\n",
    "print(f'\\n{player2} has the following cards:')\n",
    "for cards in player2hand:\n",
    "    print(str(cards[0])+' of '+str(cards[1]))\n",
    "    \n",
    "while True:\n",
    "    player1HS = input(f'\\n{player1}, would you like to hit or stand? Type \"H\" or \"S\"')\n",
    "    if player1HS.lower() == 'h':\n",
    "        print(f'{player1} 1 hits\\n')\n",
    "        print(f\"{player1}'s new hand: '\")\n",
    "        player1hand.append(deck.pop())\n",
    "        for cards in player1hand:\n",
    "            print(\"{} of {}\".format(str(cards[0]),str(cards[1])))\n",
    "        break\n",
    "    elif player1HS.lower =='s':\n",
    "        print(f'{player1} stands')\n",
    "        break"
   ]
  },
  {
   "cell_type": "code",
   "execution_count": 101,
   "metadata": {},
   "outputs": [
    {
     "name": "stdout",
     "output_type": "stream",
     "text": [
      "[['Ace', 'Spades'], [3, 'Spades']]\n"
     ]
    }
   ],
   "source": [
    "\n",
    "print(player1hand)"
   ]
  },
  {
   "cell_type": "code",
   "execution_count": 99,
   "metadata": {},
   "outputs": [
    {
     "data": {
      "text/plain": [
       "48"
      ]
     },
     "execution_count": 99,
     "metadata": {},
     "output_type": "execute_result"
    }
   ],
   "source": [
    "len(deck)"
   ]
  },
  {
   "cell_type": "code",
   "execution_count": null,
   "metadata": {},
   "outputs": [],
   "source": []
  }
 ],
 "metadata": {
  "kernelspec": {
   "display_name": "Python 3",
   "language": "python",
   "name": "python3"
  },
  "language_info": {
   "codemirror_mode": {
    "name": "ipython",
    "version": 3
   },
   "file_extension": ".py",
   "mimetype": "text/x-python",
   "name": "python",
   "nbconvert_exporter": "python",
   "pygments_lexer": "ipython3",
   "version": "3.7.4"
  }
 },
 "nbformat": 4,
 "nbformat_minor": 2
}

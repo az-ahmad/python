{
 "cells": [
  {
   "cell_type": "code",
   "execution_count": 76,
   "metadata": {},
   "outputs": [
    {
     "name": "stdout",
     "output_type": "stream",
     "text": [
      "Hello and welcome to Black Jack 2-Player Ultimate Edition With Bonus DLC\n",
      "Please enter the name of Player 1: er\n",
      "Please enter the name of Player 2: er\n",
      "Welcome er and er to Blackjack. er will go first.\n",
      "\n",
      "Deck Created\n",
      "\n",
      "[[2, 'Spades'], [3, 'Spades'], [4, 'Spades'], [5, 'Spades'], [6, 'Spades'], [7, 'Spades'], [8, 'Spades'], [9, 'Spades'], [10, 'Spades'], ['Jack', 'Spades'], ['Queen', 'Spades'], ['King', 'Spades'], ['Ace', 'Spades'], [2, 'Diamond'], [3, 'Diamond'], [4, 'Diamond'], [5, 'Diamond'], [6, 'Diamond'], [7, 'Diamond'], [8, 'Diamond'], [9, 'Diamond'], [10, 'Diamond'], ['Jack', 'Diamond'], ['Queen', 'Diamond'], ['King', 'Diamond'], ['Ace', 'Diamond'], [2, 'Clubs'], [3, 'Clubs'], [4, 'Clubs'], [5, 'Clubs'], [6, 'Clubs'], [7, 'Clubs'], [8, 'Clubs'], [9, 'Clubs'], [10, 'Clubs'], ['Jack', 'Clubs'], ['Queen', 'Clubs'], ['King', 'Clubs'], ['Ace', 'Clubs'], [2, 'Hearts'], [3, 'Hearts'], [4, 'Hearts'], [5, 'Hearts'], [6, 'Hearts'], [7, 'Hearts'], [8, 'Hearts'], [9, 'Hearts'], [10, 'Hearts'], ['Jack', 'Hearts'], ['Queen', 'Hearts'], ['King', 'Hearts'], ['Ace', 'Hearts']]\n",
      "\n",
      "Shuffling Deck\n",
      "\n",
      "[[2, 'Spades'], [5, 'Diamond'], ['King', 'Hearts'], ['Ace', 'Diamond'], [2, 'Diamond'], ['King', 'Clubs'], ['Queen', 'Hearts'], [10, 'Clubs'], [6, 'Clubs'], ['King', 'Spades'], ['King', 'Diamond'], [7, 'Diamond'], [9, 'Spades'], [4, 'Hearts'], [7, 'Spades'], ['Ace', 'Hearts'], [4, 'Spades'], [9, 'Hearts'], [7, 'Clubs'], [3, 'Spades'], [5, 'Clubs'], [10, 'Hearts'], [8, 'Spades'], [5, 'Spades'], [10, 'Spades'], [6, 'Hearts'], [8, 'Diamond'], ['Jack', 'Diamond'], ['Queen', 'Diamond'], [3, 'Clubs'], [9, 'Clubs'], [4, 'Clubs'], [5, 'Hearts'], [4, 'Diamond'], [2, 'Clubs'], [2, 'Hearts'], ['Jack', 'Hearts'], [8, 'Hearts'], ['Jack', 'Clubs'], [7, 'Hearts'], ['Jack', 'Spades'], [3, 'Hearts'], [6, 'Diamond'], ['Ace', 'Clubs'], [10, 'Diamond'], ['Ace', 'Spades'], [3, 'Diamond'], [6, 'Spades'], ['Queen', 'Spades'], ['Queen', 'Clubs'], [9, 'Diamond'], [8, 'Clubs']]\n"
     ]
    }
   ],
   "source": [
    "from random import shuffle\n",
    "print('Hello and welcome to Black Jack 2-Player Ultimate Edition With Bonus DLC')\n",
    "player1=''\n",
    "player2=''\n",
    "while player1 == '':\n",
    "    player1 = input('Please enter the name of Player 1: ')\n",
    "\n",
    "while player2 == '':\n",
    "    player2 = input('Please enter the name of Player 2: ')\n",
    "print(f'Welcome {player1} and {player2} to Blackjack. {player1} will go first.')\n",
    "\n",
    "ranks= [2,3,4,5,6,7,8,9,10,'Jack','Queen','King','Ace']\n",
    "suits= ['Spades','Diamond','Clubs','Hearts']\n",
    "deck = []\n",
    "class Deck:\n",
    "    \n",
    "    def __init__(self):\n",
    "        \n",
    "        for suit in suits:\n",
    "            for rank in ranks:\n",
    "                deck.append([rank,suit])\n",
    "        print('\\nDeck Created\\n')\n",
    "        print(deck)\n",
    "        print('\\nShuffling Deck\\n')\n",
    "        shuffle(deck)\n",
    "        print(deck)\n",
    "newdeck = Deck()"
   ]
  },
  {
   "cell_type": "code",
   "execution_count": 72,
   "metadata": {},
   "outputs": [
    {
     "name": "stdout",
     "output_type": "stream",
     "text": [
      "Deck Created\n",
      "[[2, 'Spades'], [3, 'Spades'], [4, 'Spades'], [5, 'Spades'], [6, 'Spades'], [7, 'Spades'], [8, 'Spades'], [9, 'Spades'], [10, 'Spades'], ['Jack', 'Spades'], ['Queen', 'Spades'], ['King', 'Spades'], ['Ace', 'Spades'], [2, 'Diamond'], [3, 'Diamond'], [4, 'Diamond'], [5, 'Diamond'], [6, 'Diamond'], [7, 'Diamond'], [8, 'Diamond'], [9, 'Diamond'], [10, 'Diamond'], ['Jack', 'Diamond'], ['Queen', 'Diamond'], ['King', 'Diamond'], ['Ace', 'Diamond'], [2, 'Clubs'], [3, 'Clubs'], [4, 'Clubs'], [5, 'Clubs'], [6, 'Clubs'], [7, 'Clubs'], [8, 'Clubs'], [9, 'Clubs'], [10, 'Clubs'], ['Jack', 'Clubs'], ['Queen', 'Clubs'], ['King', 'Clubs'], ['Ace', 'Clubs'], [2, 'Hearts'], [3, 'Hearts'], [4, 'Hearts'], [5, 'Hearts'], [6, 'Hearts'], [7, 'Hearts'], [8, 'Hearts'], [9, 'Hearts'], [10, 'Hearts'], ['Jack', 'Hearts'], ['Queen', 'Hearts'], ['King', 'Hearts'], ['Ace', 'Hearts']]\n",
      "Shuffling Deck\n",
      "[['Ace', 'Diamond'], [8, 'Spades'], [4, 'Hearts'], [7, 'Spades'], ['Queen', 'Clubs'], ['Jack', 'Hearts'], [2, 'Clubs'], ['Queen', 'Diamond'], [7, 'Hearts'], [2, 'Diamond'], [6, 'Clubs'], ['Ace', 'Hearts'], ['Ace', 'Clubs'], [3, 'Diamond'], ['King', 'Clubs'], [4, 'Spades'], ['Jack', 'Clubs'], ['Ace', 'Spades'], [9, 'Clubs'], [4, 'Clubs'], ['King', 'Spades'], ['Queen', 'Spades'], [4, 'Diamond'], ['King', 'Diamond'], [9, 'Hearts'], [2, 'Spades'], ['Jack', 'Diamond'], [7, 'Clubs'], [9, 'Diamond'], ['Jack', 'Spades'], [8, 'Diamond'], [3, 'Spades'], [10, 'Hearts'], [10, 'Spades'], [9, 'Spades'], [5, 'Hearts'], [7, 'Diamond'], [6, 'Hearts'], [5, 'Clubs'], [8, 'Clubs'], [2, 'Hearts'], [10, 'Diamond'], [3, 'Clubs'], [10, 'Clubs'], [6, 'Spades'], [3, 'Hearts'], [6, 'Diamond'], ['Queen', 'Hearts'], [5, 'Spades'], [5, 'Diamond'], ['King', 'Hearts'], [8, 'Hearts']]\n"
     ]
    }
   ],
   "source": [
    "\n"
   ]
  },
  {
   "cell_type": "code",
   "execution_count": null,
   "metadata": {},
   "outputs": [],
   "source": []
  }
 ],
 "metadata": {
  "kernelspec": {
   "display_name": "Python 3",
   "language": "python",
   "name": "python3"
  },
  "language_info": {
   "codemirror_mode": {
    "name": "ipython",
    "version": 3
   },
   "file_extension": ".py",
   "mimetype": "text/x-python",
   "name": "python",
   "nbconvert_exporter": "python",
   "pygments_lexer": "ipython3",
   "version": "3.7.4"
  }
 },
 "nbformat": 4,
 "nbformat_minor": 2
}
